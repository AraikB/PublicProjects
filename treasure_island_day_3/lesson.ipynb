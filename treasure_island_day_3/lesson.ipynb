{
 "cells": [
  {
   "cell_type": "code",
   "execution_count": 1,
   "metadata": {},
   "outputs": [
    {
     "name": "stdout",
     "output_type": "stream",
     "text": [
      "This is an odd number\n"
     ]
    }
   ],
   "source": [
    "\"\"\"Instructions\n",
    "Write a program that works out whether if a given number is an odd or even number.\n",
    "\n",
    "Even numbers can be divided by 2 with no remainder.\n",
    "\n",
    "e.g. 86 is even because 86 ÷ 2 = 43\n",
    "\n",
    "43 does not have any decimal places. Therefore the division is clean.\n",
    "\n",
    "e.g. 59 is odd because 59 ÷ 2 = 29.5\n",
    "\n",
    "29.5 is not a whole number, it has decimal places. Therefore there is a remainder of 0.5, so the division is not clean.\n",
    "\n",
    "The modulo is written as a percentage sign (%) in Python. It gives you the remainder after a division.\n",
    "\n",
    "e.g.\n",
    "\n",
    "6 ÷ 2 = 3 with no remainder.\n",
    "\n",
    "therefore: 6 % 2 = 0\n",
    "\n",
    "5 ÷ 2 = 2 x 2 + 1, remainder is 1.\n",
    "\n",
    "therefore: 5 % 2 = 1\n",
    "\n",
    "14 ÷ 4 = 3 x 4 + 2, remainder is 2.\n",
    "\n",
    "therefore: 14 % 4 = 2\n",
    "\n",
    "Warning your output should match the Example Output format exactly, even the positions of the commas and full stops.\"\"\" \n",
    "\n",
    "number = int(input(\"What number would you like to check?\"))\n",
    "print(\"This is an even number\" if number % 2 == 0 else \"This is an odd number\")"
   ]
  },
  {
   "cell_type": "code",
   "execution_count": 6,
   "metadata": {},
   "outputs": [
    {
     "name": "stdout",
     "output_type": "stream",
     "text": [
      "Your BMI is 28, you are slightly overweight.\n"
     ]
    }
   ],
   "source": [
    "\"\"\"Instructions\n",
    "Write a program that interprets the Body Mass Index (BMI) based on a user's weight and height.\n",
    "\n",
    "It should tell them the interpretation of their BMI based on the BMI value.\n",
    "\n",
    "Under 18.5 they are underweight\n",
    "Over 18.5 but below 25 they have a normal weight\n",
    "Over 25 but below 30 they are slightly overweight\n",
    "Over 30 but below 35 they are obese\n",
    "Above 35 they are clinically obese.\"\"\"  \n",
    "\n",
    "height = float(input(\"Enter Height in Meters: \\n\"))\n",
    "weight = float(input(\"Enter Weight in Kilograms: \\n\"))\n",
    "bmi =  round(weight / (height)**2)\n",
    "if bmi < 18.5: \n",
    "    print(f\"Your BMI is {bmi}, you are underweight.\")\n",
    "if bmi >= 18.5 and bmi < 25: \n",
    "    print(f\"Your BMI is {bmi}, you have a normal weight.\")\n",
    "if bmi >= 25 and bmi < 30: \n",
    "    print(f\"Your BMI is {bmi}, you are slightly overweight.\")\n",
    "if bmi >= 30 and bmi < 35: \n",
    "    print(f\"Your BMI is {bmi}, you are obese.\")\n",
    "if bmi >= 35: \n",
    "    print(f\"Your BMI is {bmi}, you are clinically obese.\")"
   ]
  },
  {
   "cell_type": "code",
   "execution_count": 18,
   "metadata": {},
   "outputs": [
    {
     "name": "stdout",
     "output_type": "stream",
     "text": [
      "Leap year.\n"
     ]
    }
   ],
   "source": [
    "\"\"\"\n",
    "Instructions\n",
    "Write a program that works out whether if a given year is a leap year. A normal year has 365 days, leap years have 366, with an extra day in February. The reason why we have leap years is really fascinating, this video does it more justice:\n",
    "\n",
    "https://www.youtube.com/watch?v=xX96xng7sAE\n",
    "\n",
    "This is how you work out whether if a particular year is a leap year.\n",
    "\n",
    "on every year that is evenly divisible by 4 \n",
    "\n",
    "**except** every year that is evenly divisible by 100 \n",
    "\n",
    "**unless** the year is also evenly divisible by 400\n",
    "\n",
    "e.g. The year 2000:\n",
    "\n",
    "2000 ÷ 4 = 500 (Leap)\n",
    "\n",
    "2000 ÷ 100 = 20 (Not Leap)\n",
    "\n",
    "2000 ÷ 400 = 5 (Leap!)\n",
    "\n",
    "So the year 2000 is a leap year.\n",
    "\n",
    "But the year 2100 is not a leap year because:\n",
    "\n",
    "2100 ÷ 4 = 525 (Leap)\n",
    "\n",
    "2100 ÷ 100 = 21 (Not Leap)\n",
    "\n",
    "2100 ÷ 400 = 5.25 (Not Leap)\n",
    "\n",
    "Warning your output should match the Example Output format exactly, even the positions of the commas and full stops.\"\"\"\n",
    "\n",
    "year = int(input(\"Enter the year to evaluate if its a leap year\"))\n",
    "if year % 4 == 0: \n",
    "    if year % 100 == 0: \n",
    "        if year % 400 == 0: \n",
    "            print(\"Leap year.\")\n",
    "        else: \n",
    "            print('Not leap year.')\n",
    "    else: \n",
    "        print('Leap year.')\n",
    "else: \n",
    "    print('Not leap year.')"
   ]
  },
  {
   "cell_type": "code",
   "execution_count": 25,
   "metadata": {},
   "outputs": [
    {
     "name": "stdout",
     "output_type": "stream",
     "text": [
      "Welcome to Python Pizza Deliveries!\n",
      "Your final bill is: $25.\n"
     ]
    }
   ],
   "source": [
    "\"\"\"Instructions\n",
    "Congratulations, you've got a job at Python Pizza. Your first job is to build an automatic pizza order program.\n",
    "\n",
    "Based on a user's order, work out their final bill.\n",
    "\n",
    "Small Pizza: $15\n",
    "\n",
    "Medium Pizza: $20\n",
    "\n",
    "Large Pizza: $25\n",
    "\n",
    "Pepperoni for Small Pizza: +$2\n",
    "\n",
    "Pepperoni for Medium or Large Pizza: +$3\n",
    "\n",
    "Extra cheese for any size pizza: + $1\n",
    "\n",
    "Example Input\n",
    "size = \"L\"\n",
    "add_pepperoni = \"Y\"\n",
    "extra_cheese = \"N\"\n",
    "Example Output\n",
    "Your final bill is: $28.\"\"\"\n",
    "\n",
    "size_cost_map={\"L\":25, \"M\":20, \"S\":15} \n",
    "pepperoni_cost_map={\"L\":3, \"M\":3, \"S\":2}\n",
    "cheese = 1\n",
    "print(\"Welcome to Python Pizza Deliveries!\")\n",
    "size = input(\"What size pizza do you want? S, M, or L \")\n",
    "add_pepperoni = input(\"Do you want pepperoni? Y or N \")\n",
    "extra_cheese = input(\"Do you want extra cheese? Y or N \")  \n",
    "print(f\"Your final bill is: ${size_cost_map[size] + (pepperoni_cost_map[size] if add_pepperoni == 'Y' else 0 + cheese if extra_cheese == 'Y' else 0)}.\")\n",
    "\n",
    "\n"
   ]
  }
 ],
 "metadata": {
  "kernelspec": {
   "display_name": "Python 3.8.10 64-bit",
   "language": "python",
   "name": "python3"
  },
  "language_info": {
   "codemirror_mode": {
    "name": "ipython",
    "version": 3
   },
   "file_extension": ".py",
   "mimetype": "text/x-python",
   "name": "python",
   "nbconvert_exporter": "python",
   "pygments_lexer": "ipython3",
   "version": "3.8.10"
  },
  "orig_nbformat": 4,
  "vscode": {
   "interpreter": {
    "hash": "916dbcbb3f70747c44a77c7bcd40155683ae19c65e1c03b4aa3499c5328201f1"
   }
  }
 },
 "nbformat": 4,
 "nbformat_minor": 2
}
