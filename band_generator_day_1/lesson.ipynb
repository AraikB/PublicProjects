{
 "cells": [
  {
   "cell_type": "code",
   "execution_count": null,
   "metadata": {},
   "outputs": [],
   "source": [
    "#Day 1 Lesson 1 \n",
    "\"\"\"\n",
    "Instructions:\n",
    "    Write a program in main.py that prints the same notes from the previous lesson using what you have learnt about the Python print function.\n",
    "\n",
    "    Warning: The output in your program should match the example output shown below exactly, character for character, even spaces and symbols should be identical, otherwise the tests won't pass.\n",
    "\n",
    "    Example Output\n",
    "    After you have written your code, you should run your program and it should print the following:\n",
    "    Day 1 - Python Print Function\n",
    "    The function is declared like this:\n",
    "    print('what to print')\"\"\"\n",
    "\n",
    "print('Day 1 - Python Print Function')\n",
    "print('The function is declared like this:')\n",
    "print(\"print('what to print')\") \n"
   ]
  },
  {
   "cell_type": "code",
   "execution_count": null,
   "metadata": {},
   "outputs": [],
   "source": [
    "\n",
    "#Day 1 Lesson 2 \n",
    "\"\"\"Instructions\n",
    "    Look at the code in the code editor on the right. There are errors in all of the lines of code. Fix the code so that it runs without errors.\n",
    "\n",
    "    Warning: The output in your program should match the example output shown below exactly, character for character, even spaces and symbols should be identical, otherwise the tests won't pass.\n",
    "\n",
    "    Example Output\n",
    "    When you run your program, it should print the following:\n",
    "\n",
    "    Day 1 - String Manipulation\n",
    "    String Concatenation is done with the \"+\" sign.\n",
    "    e.g. print(\"Hello \" + \"world\")\n",
    "    New lines can be created with a backslash and n.\"\"\" \n",
    "    #Fix the code below 👇\n",
    "    # print(Day 1 - String Manipulation\")\n",
    "    # print(\"String Concatenation is done with the \"+\" sign.\")\n",
    "    #   print('e.g. print(\"Hello \" + \"world\")')\n",
    "    # print((\"New lines can be created with a backslash and n.\")\n",
    "\n",
    "print(\"Day 1 - String Manipulation\")\n",
    "print('String Concatenation is done with the \"+\" sign.')\n",
    "print('e.g. print(\"Hello \" + \"world\")')\n",
    "print(\"New lines can be created with a backslash and n.\")\n",
    "\n"
   ]
  },
  {
   "cell_type": "code",
   "execution_count": null,
   "metadata": {},
   "outputs": [],
   "source": [
    "\n",
    "#Day 1 Lesson 3 \n",
    "\"\"\"Instructions\n",
    "    Write a program that prints the number of characters in a user's name. You might need to Google for a function that calculates the length of a string.\n",
    "\n",
    "    e.g.\n",
    "\n",
    "    https://www.google.com/search?q=how+to+get+the+length+of+a+string+in+python+stack+overflow\n",
    "\n",
    "    Warning. Your program should work for different inputs. e.g. any name that you input.\n",
    "\n",
    "\"\"\"\n",
    "\n",
    "name = input('What is your name? ')\n",
    "print(len(name))  \n"
   ]
  },
  {
   "cell_type": "code",
   "execution_count": null,
   "metadata": {},
   "outputs": [],
   "source": [
    "\n",
    "#Day 1 Lesson 4 \n",
    "\"\"\"Instructions\n",
    "    Write a program that switches the values stored in the variables a and b.\n",
    "\n",
    "    Warning. Do not change the code on lines 1-4 and 12-18. Your program should work for different inputs. e.g. any value of a and b.\n",
    "\n",
    "    Example Input\n",
    "    a: 3\n",
    "    b: 5\n",
    "    Example Output\n",
    "    a: 5\n",
    "    b: 3\n",
    "    e.g. When you hit run, this is what should happen:\"\"\" \n",
    "\n",
    "a = input(\"a: \")\n",
    "b = input(\"b: \")\n",
    "a,b = b,a \n",
    "print(f\"a: {a}\")\n",
    "print(f\"b: {b}\") \n",
    "\n",
    "#Day 1 - Project BAND GENERATOR \n",
    "#1 Create A Greeting for your program \n",
    "#2 Ask the User for a City they grew up in\n",
    "#3 Ask the User for a name of a pet \n",
    "#4 Combine the name of their pet and city and then show them the band name \n",
    "#5 Make sure the cursor shows on a new li"
   ]
  }
 ],
 "metadata": {
  "language_info": {
   "name": "python"
  },
  "orig_nbformat": 4
 },
 "nbformat": 4,
 "nbformat_minor": 2
}
